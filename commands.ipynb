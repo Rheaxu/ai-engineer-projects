{
  "cells": [
    {
      "cell_type": "markdown",
      "metadata": {
        "colab_type": "text",
        "id": "view-in-github"
      },
      "source": [
        "<a href=\"https://colab.research.google.com/github/Rheaxu/ai-engineer-projects/blob/main/vscode_colab_connection.ipynb\" target=\"_parent\"><img src=\"https://colab.research.google.com/assets/colab-badge.svg\" alt=\"Open In Colab\"/></a>"
      ]
    },
    {
      "cell_type": "markdown",
      "metadata": {},
      "source": [
        "# Commands"
      ]
    },
    {
      "cell_type": "markdown",
      "metadata": {},
      "source": [
        "### List out all Conda Envs"
      ]
    },
    {
      "cell_type": "code",
      "execution_count": null,
      "metadata": {},
      "outputs": [],
      "source": [
        "## List out all conda envs\n",
        "conda env list"
      ]
    },
    {
      "cell_type": "markdown",
      "metadata": {},
      "source": []
    },
    {
      "cell_type": "markdown",
      "metadata": {},
      "source": [
        "## Connect to Colab to run the notebook\n",
        "\n",
        "The following command are for connecting to Collab through nGrok.\n",
        "\n",
        "This only works with paid version Colab, non paid version will get security warnings and may get blocked."
      ]
    },
    {
      "cell_type": "code",
      "execution_count": null,
      "metadata": {
        "id": "x127FQjCndEJ"
      },
      "outputs": [],
      "source": [
        "# Install the library\n",
        "!pip install colab_ssh --upgrade\n",
        "\n",
        "# Import and launch the connection\n",
        "from colab_ssh import launch_ssh\n",
        "launch_ssh('34Oud821RIl1PbytB0oZSkg3aWN_4RxcVVnY1HKRWuUyGjB8P', 'ByteByteAIColab')"
      ]
    },
    {
      "cell_type": "markdown",
      "metadata": {},
      "source": [
        "# Python Concepts Understanding\n",
        "\n",
        "## Dictionary Comprehension\n",
        "Dictionary comprehension is a concise and elegant way to create dictionaries in Python. Think of it as a one-line for loop designed specifically for building a dictionary from an existing collection of items (like a list or another dictionary).\n",
        "It allows you to define the key-value pairs of a new dictionary in a single, readable line.\n",
        "\n",
        "## List Comprehension\n"
      ]
    }
  ],
  "metadata": {
    "colab": {
      "authorship_tag": "ABX9TyNQeq9yu6w7+w53rEGtEtpg",
      "include_colab_link": true,
      "provenance": []
    },
    "kernelspec": {
      "display_name": "web-agent",
      "language": "python",
      "name": "python3"
    },
    "language_info": {
      "name": "python",
      "version": "3.11.14"
    }
  },
  "nbformat": 4,
  "nbformat_minor": 0
}
