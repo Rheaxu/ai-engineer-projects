{
  "nbformat": 4,
  "nbformat_minor": 0,
  "metadata": {
    "colab": {
      "provenance": [],
      "authorship_tag": "ABX9TyNQeq9yu6w7+w53rEGtEtpg",
      "include_colab_link": true
    },
    "kernelspec": {
      "name": "python3",
      "display_name": "Python 3"
    },
    "language_info": {
      "name": "python"
    }
  },
  "cells": [
    {
      "cell_type": "markdown",
      "metadata": {
        "id": "view-in-github",
        "colab_type": "text"
      },
      "source": [
        "<a href=\"https://colab.research.google.com/github/Rheaxu/ai-engineer-projects/blob/main/vscode_colab_connection.ipynb\" target=\"_parent\"><img src=\"https://colab.research.google.com/assets/colab-badge.svg\" alt=\"Open In Colab\"/></a>"
      ]
    },
    {
      "cell_type": "code",
      "execution_count": null,
      "metadata": {
        "id": "x127FQjCndEJ"
      },
      "outputs": [],
      "source": [
        "# Install the library\n",
        "!pip install colab_ssh --upgrade\n",
        "\n",
        "# Import and launch the connection\n",
        "from colab_ssh import launch_ssh\n",
        "launch_ssh('34Oud821RIl1PbytB0oZSkg3aWN_4RxcVVnY1HKRWuUyGjB8P', 'ByteByteAIColab')"
      ]
    }
  ]
}